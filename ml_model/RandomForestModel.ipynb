{
 "cells": [
  {
   "cell_type": "code",
   "execution_count": null,
   "id": "0bbe40ed-3c18-4abd-9d6d-40c75a4f345c",
   "metadata": {},
   "outputs": [],
   "source": [
    "# ------------------------ استيراد المكتبات ------------------------\n",
    "import pandas as pd\n",
    "import numpy as np\n",
    "from sklearn.model_selection import train_test_split, RandomizedSearchCV, cross_val_score\n",
    "from sklearn.preprocessing import LabelEncoder, OneHotEncoder, StandardScaler\n",
    "from sklearn.impute import SimpleImputer\n",
    "from sklearn.metrics import classification_report, confusion_matrix, accuracy_score\n",
    "from sklearn.ensemble import RandomForestClassifier\n",
    "from imblearn.over_sampling import SMOTE\n",
    "from imblearn.pipeline import Pipeline as imbPipeline\n",
    "import matplotlib.pyplot as plt\n",
    "import seaborn as sns\n",
    "import joblib\n",
    "import warnings\n",
    "warnings.filterwarnings('ignore')"
   ]
  },
  {
   "cell_type": "code",
   "execution_count": null,
   "id": "67398971-1119-42eb-b442-a4fa45a714e6",
   "metadata": {
    "scrolled": true
   },
   "outputs": [],
   "source": [
    "\n",
    "# ------------------------ تحميل البيانات ------------------------\n",
    "df = pd.read_csv('loan_prediction.csv')\n",
    "df.columns = df.columns.str.strip()  # تنظيف أسماء الأعمدة\n"
   ]
  },
  {
   "cell_type": "code",
   "execution_count": null,
   "id": "4c1ff68f-c3b6-47db-b980-e5f14cb4aae4",
   "metadata": {},
   "outputs": [],
   "source": [
    "# ------------------------ تقسيم البيانات ------------------------\n",
    "X = df.drop(['Loan_ID', 'Loan_Status'], axis=1)\n",
    "y = df['Loan_Status']\n",
    "\n",
    "# ------------------------ خطوة معالجة عدم التوازن ------------------------\n",
    "X_train, X_test, y_train, y_test = train_test_split(\n",
    "    X, y, \n",
    "    test_size=0.2, \n",
    "    random_state=42,\n",
    "    stratify=y\n",
    ")\n"
   ]
  },
  {
   "cell_type": "code",
   "execution_count": null,
   "id": "00df8996-c844-46db-ba62-9bfa8638f8e3",
   "metadata": {},
   "outputs": [],
   "source": [
    "X_train.head()"
   ]
  },
  {
   "cell_type": "code",
   "execution_count": null,
   "id": "1964b9bd-08ec-4b98-b556-161d0aff6a6a",
   "metadata": {
    "scrolled": true
   },
   "outputs": [],
   "source": [
    "\n",
    "# ------------------------ معالجة القيم المفقودة ------------------------\n",
    "# الأعمدة الرقمية\n",
    "num_imputer = SimpleImputer(strategy='mean')\n",
    "num_cols = ['LoanAmount', 'Loan_Amount_Term', 'Credit_History']\n",
    "X_train[num_cols] = num_imputer.fit_transform(X_train[num_cols])\n",
    "\n",
    "X_test[num_cols] = num_imputer.fit(X_test[num_cols])\n"
   ]
  },
  {
   "cell_type": "code",
   "execution_count": null,
   "id": "1745b652-253b-40dd-bef9-ecd61486734f",
   "metadata": {},
   "outputs": [],
   "source": [
    "\n",
    "# الأعمدة الفئوية\n",
    "cat_imputer = SimpleImputer(strategy='most_frequent')\n",
    "cat_cols = ['Gender', 'Married','Dependents', 'Self_Employed']\n",
    "X_train[cat_cols] = cat_imputer.fit_transform(X_train[cat_cols])\n",
    "\n",
    "X_test[cat_cols] = cat_imputer.fit(X_test[cat_cols])"
   ]
  },
  {
   "cell_type": "code",
   "execution_count": null,
   "id": "1899dbbf-d352-46aa-b7ea-20053d9dfca8",
   "metadata": {},
   "outputs": [],
   "source": [
    "# ------------------------ المعالجة الأولية ------------------------\n",
    "# تحويل الأنواع الفئوية\n",
    "le = LabelEncoder()\n",
    "cat_cols = ['Gender', 'Married', 'Dependents', 'Education', 'Self_Employed', 'Credit_History', 'Loan_Status']\n",
    "for col in cat_cols:\n",
    "    X_train[col] = le.fit_transform(X_train[col])"
   ]
  },
  {
   "cell_type": "code",
   "execution_count": null,
   "id": "7e0b9b85-2e82-4064-a7a6-d0ac25eb9972",
   "metadata": {},
   "outputs": [],
   "source": [
    "ohe= OneHotEncoder(drop='first', sparse_output=False)\n",
    "property_ohe = ohe.fit_transform(df[['Property_Area']])\n",
    "df_ohe = pd.DataFrame(property_ohe, columns=ohe.get_feature_names_out([\"Property_Area\"]))\n",
    "\n",
    "df = pd.concat([df.drop(\"Property_Area\", axis=1), df_ohe], axis=1)"
   ]
  },
  {
   "cell_type": "code",
   "execution_count": null,
   "id": "ad52f691-13ee-408e-8198-1280f82b014c",
   "metadata": {},
   "outputs": [],
   "source": [
    "\n",
    "# ------------------------ هندسة الميزات ------------------------\n",
    "# إضافة ميزات جديدة\n",
    "df['TotalIncome'] = df['ApplicantIncome'] + df['CoapplicantIncome']\n",
    "df['LoanToIncomeRatio'] = df['LoanAmount'] / (df['TotalIncome'] + 1e-6)  # تجنب القسمة على صفر"
   ]
  },
  {
   "cell_type": "markdown",
   "id": "00a64851-a56a-4d1f-9f8e-cc19034ce401",
   "metadata": {},
   "source": [
    "### Count Of Aprroved Based o Gender"
   ]
  },
  {
   "cell_type": "code",
   "execution_count": null,
   "id": "e0cd81a1-1641-433a-91b4-4297ec2332db",
   "metadata": {},
   "outputs": [],
   "source": [
    "df.columns.tolist()"
   ]
  },
  {
   "cell_type": "code",
   "execution_count": null,
   "id": "5da81bfa-2fe9-4a65-94c8-4b5c83765af8",
   "metadata": {
    "scrolled": true
   },
   "outputs": [],
   "source": [
    "# معالجة القيم المتطرفة\n",
    "X_train_transformed = np.log1p(X_train)  # Log Transformation\n",
    "X_test_transformed = np.log1p(X_test)  # Log Transformation\n",
    " "
   ]
  },
  {
   "cell_type": "code",
   "execution_count": null,
   "id": "3c6489cc-827f-4dbe-a6a7-180d9772e9cf",
   "metadata": {},
   "outputs": [],
   "source": [
    "smote = SMOTE(random_state=42, sampling_strategy='auto')\n",
    "X_res, y_res = smote.fit_resample(X_train_transformed, y_train)"
   ]
  },
  {
   "cell_type": "code",
   "execution_count": null,
   "id": "9592ea17-af38-43e3-b262-02f83642f456",
   "metadata": {},
   "outputs": [],
   "source": [
    "X_res.shape, y_res.shape, X.shape, y.shape"
   ]
  },
  {
   "cell_type": "markdown",
   "id": "78187189-ac96-43dc-92e2-981900b3377d",
   "metadata": {},
   "source": [
    "# Splitting Data"
   ]
  },
  {
   "cell_type": "code",
   "execution_count": null,
   "id": "b28f4e5f-c4c1-4711-b86f-d7418d93dd43",
   "metadata": {},
   "outputs": [],
   "source": [
    "smote = SMOTE(random_state=42, sampling_strategy='auto')\n",
    "X_res, y_res = smote.fit_resample(X_train, y_train)"
   ]
  },
  {
   "cell_type": "markdown",
   "id": "e48c0d4c-be04-473d-9a44-be4119da75fa",
   "metadata": {},
   "source": [
    "# Model Building"
   ]
  },
  {
   "cell_type": "code",
   "execution_count": null,
   "id": "c3bee849-e115-417c-82b7-afd0f3bad0c7",
   "metadata": {},
   "outputs": [],
   "source": [
    "\n",
    "model = RandomForestClassifier(\n",
    "    n_estimators=100,  # عدد الأشجار\n",
    "    max_depth=10,       # الحد الأقصى لعمق الشجرة\n",
    "    random_state=42,\n",
    "    # enable for best recal\n",
    "    class_weight='balanced'  # لمعالجة عدم التوازن في الفئات\n",
    "    \n",
    ")\n",
    "model.fit(X_res, y_res)\n"
   ]
  },
  {
   "cell_type": "code",
   "execution_count": null,
   "id": "34c7bf1d-4c43-491a-aab4-ffbfef70dd2e",
   "metadata": {},
   "outputs": [],
   "source": [
    "\n",
    "# ----------- التنبؤ والتقييم -----------\n",
    "y_pred = model.predict(X_test)\n",
    "\n",
    "print(\"----- model evaluation -----\")\n",
    "print(f\"Accuracy: {accuracy_score(y_test, y_pred):.2f}\")\n",
    "print(\"\\n Confusion Matrix :\")\n",
    "print(confusion_matrix(y_test, y_pred))\n",
    "print(\"\\n Classification Report :\")\n",
    "print(classification_report(y_test, y_pred))\n"
   ]
  },
  {
   "cell_type": "code",
   "execution_count": null,
   "id": "807d0c81-9469-4c95-8718-6ac0297b9310",
   "metadata": {},
   "outputs": [],
   "source": [
    "\n",
    "# ------------------------ مصفوفة الارتباك ------------------------\n",
    "plt.figure(figsize=(8,6))\n",
    "sns.heatmap(confusion_matrix(y_test, y_pred), \n",
    "            annot=True, \n",
    "            fmt='d', \n",
    "            cmap='Blues',\n",
    "            xticklabels=['Rejected', 'Approved'],\n",
    "            yticklabels=['Rejected', 'Approved'])\n",
    "plt.title('Confusion Matrix')\n",
    "plt.show()\n"
   ]
  },
  {
   "cell_type": "code",
   "execution_count": null,
   "id": "43889d3c-7ce5-4bb6-a5cf-881d23818ec8",
   "metadata": {},
   "outputs": [],
   "source": [
    "# Cross Validation\n",
    "scores = cross_val_score(model, X_res, y_res, cv=5, scoring=\"f1\")\n",
    "print(f\"F1 Scores: {scores}\")\n",
    "print(f\"Mean F1: {scores.mean()}\")\n",
    "print(f\"STD F1: {scores.std()}\")"
   ]
  },
  {
   "cell_type": "code",
   "execution_count": null,
   "id": "b1aa8fdf-5cb1-4fea-8901-9d2a587b1408",
   "metadata": {},
   "outputs": [],
   "source": [
    "# model = joblib.dump(model, \"trained_randomforest_model.pkl\")"
   ]
  }
 ],
 "metadata": {
  "kernelspec": {
   "display_name": "Python 3 (ipykernel)",
   "language": "python",
   "name": "python3"
  },
  "language_info": {
   "codemirror_mode": {
    "name": "ipython",
    "version": 3
   },
   "file_extension": ".py",
   "mimetype": "text/x-python",
   "name": "python",
   "nbconvert_exporter": "python",
   "pygments_lexer": "ipython3",
   "version": "3.12.2"
  }
 },
 "nbformat": 4,
 "nbformat_minor": 5
}
